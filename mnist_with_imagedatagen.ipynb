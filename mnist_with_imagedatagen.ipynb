{
 "cells": [
  {
   "cell_type": "code",
   "execution_count": 113,
   "metadata": {},
   "outputs": [],
   "source": [
    "import os\n",
    "import matplotlib.pyplot\n",
    "\n",
    "# os.environ[\"TF_CPP_MIN_LOG_LEVEL\"] = \"2\"\n",
    "import tensorflow as tf\n",
    "from tensorflow import keras\n",
    "from tensorflow.keras import layers\n",
    "import tensorflow_datasets as tfds"
   ]
  },
  {
   "cell_type": "code",
   "execution_count": 114,
   "metadata": {},
   "outputs": [
    {
     "name": "stdout",
     "output_type": "stream",
     "text": [
      "<class 'numpy.ndarray'> (10000, 28, 28, 1)\n",
      "[2 0 4 ... 8 0 5]\n"
     ]
    }
   ],
   "source": [
    "vimage, vlabel = tfds.as_numpy(tfds.load(\n",
    "    'mnist',\n",
    "    split='test',\n",
    "    batch_size=-1,\n",
    "    as_supervised=True,\n",
    "))\n",
    "\n",
    "print(type(vimage), vimage.shape)\n",
    "print(vlabel)"
   ]
  },
  {
   "cell_type": "code",
   "execution_count": 115,
   "metadata": {},
   "outputs": [
    {
     "name": "stdout",
     "output_type": "stream",
     "text": [
      "<class 'numpy.ndarray'> (60000, 28, 28, 1)\n"
     ]
    }
   ],
   "source": [
    "timage, tlabel = tfds.as_numpy(tfds.load(\n",
    "    'mnist',\n",
    "    split='train',\n",
    "    batch_size=-1,\n",
    "    as_supervised=True,\n",
    "))\n",
    "\n",
    "print(type(timage), timage.shape)"
   ]
  },
  {
   "cell_type": "code",
   "execution_count": 116,
   "metadata": {},
   "outputs": [],
   "source": [
    "timage = timage.reshape(timage.shape[0],28,28,1)\n",
    "vimage = vimage.reshape(vimage.shape[0],28,28,1)"
   ]
  },
  {
   "cell_type": "code",
   "execution_count": 117,
   "metadata": {},
   "outputs": [],
   "source": [
    "timage = timage.astype('float32')\n",
    "vimage = vimage.astype('float32')\n",
    "\n",
    "timage/=255.\n",
    "vimage/=255"
   ]
  },
  {
   "cell_type": "code",
   "execution_count": 118,
   "metadata": {},
   "outputs": [
    {
     "name": "stdout",
     "output_type": "stream",
     "text": [
      "(60000, 10)\n",
      "[0. 0. 0. 0. 1. 0. 0. 0. 0. 0.]\n"
     ]
    }
   ],
   "source": [
    "tlabel = tf.keras.utils.to_categorical(tlabel,num_classes=10)\n",
    "vlabel = tf.keras.utils.to_categorical(vlabel,num_classes=10)\n",
    "\n",
    "print(tlabel.shape)\n",
    "print(tlabel[0])"
   ]
  },
  {
   "cell_type": "code",
   "execution_count": 119,
   "metadata": {},
   "outputs": [],
   "source": [
    "model=tf.keras.models.Sequential([\n",
    "\n",
    "        \n",
    "        tf.keras.layers.Conv2D(32,(3,3),activation='relu',input_shape=(28,28,1)),\n",
    "        tf.keras.layers.MaxPooling2D(2,2),\n",
    "    \n",
    "        tf.keras.layers.Conv2D(64,(3,3),activation='relu'),\n",
    "        tf.keras.layers.MaxPooling2D(2,2),\n",
    "        \n",
    "        tf.keras.layers.Conv2D(128,(3,3),activation='relu'),\n",
    "        tf.keras.layers.MaxPooling2D(2,2),\n",
    "# #     \n",
    "    \n",
    "#         tf.keras.layers.Conv2D(128,(3,3),activation='relu'),\n",
    "#         tf.keras.layers.MaxPooling2D(2,2),\n",
    "        \n",
    "\n",
    "    \n",
    "        tf.keras.layers.Flatten(),\n",
    "      \n",
    "        tf.keras.layers.Dense(256,activation='relu'),\n",
    "        tf.keras.layers.Dropout(0.25),\n",
    "        tf.keras.layers.Dense(10,activation='softmax')\n",
    "    \n",
    "        \n",
    "    \n",
    "    \n",
    "    \n",
    "])\n"
   ]
  },
  {
   "cell_type": "code",
   "execution_count": 120,
   "metadata": {},
   "outputs": [],
   "source": [
    "lr=1e-4\n",
    "ep=15\n",
    "\n",
    "opt=tf.keras.optimizers.Adam(learning_rate=lr)\n",
    "\n",
    "model.compile(loss='categorical_crossentropy',optimizer='adam',metrics=['accuracy'])"
   ]
  },
  {
   "cell_type": "code",
   "execution_count": 121,
   "metadata": {},
   "outputs": [],
   "source": [
    "from keras_preprocessing import image\n",
    "from keras_preprocessing.image import ImageDataGenerator"
   ]
  },
  {
   "cell_type": "code",
   "execution_count": 122,
   "metadata": {},
   "outputs": [],
   "source": [
    "training_data=ImageDataGenerator(\n",
    "  \n",
    "    rotation_range=8, width_shift_range=0.08, shear_range=0.3,\n",
    "                         height_shift_range=0.08, zoom_range=0.08\n",
    "#     validation_split=0.25\n",
    "    )\n",
    "\n",
    "val_data=ImageDataGenerator()\n"
   ]
  },
  {
   "cell_type": "code",
   "execution_count": 123,
   "metadata": {},
   "outputs": [],
   "source": [
    "training_data.fit(timage)\n",
    "val_data.fit(vimage)"
   ]
  },
  {
   "cell_type": "code",
   "execution_count": 124,
   "metadata": {},
   "outputs": [],
   "source": [
    "train=training_data.flow(timage,tlabel,batch_size=64)\n",
    "val=val_data.flow(vimage,vlabel,batch_size=64)"
   ]
  },
  {
   "cell_type": "code",
   "execution_count": 125,
   "metadata": {},
   "outputs": [
    {
     "name": "stdout",
     "output_type": "stream",
     "text": [
      "WARNING:tensorflow:sample_weight modes were coerced from\n",
      "  ...\n",
      "    to  \n",
      "  ['...']\n"
     ]
    },
    {
     "name": "stderr",
     "output_type": "stream",
     "text": [
      "WARNING:tensorflow:sample_weight modes were coerced from\n",
      "  ...\n",
      "    to  \n",
      "  ['...']\n"
     ]
    },
    {
     "name": "stdout",
     "output_type": "stream",
     "text": [
      "WARNING:tensorflow:sample_weight modes were coerced from\n",
      "  ...\n",
      "    to  \n",
      "  ['...']\n"
     ]
    },
    {
     "name": "stderr",
     "output_type": "stream",
     "text": [
      "WARNING:tensorflow:sample_weight modes were coerced from\n",
      "  ...\n",
      "    to  \n",
      "  ['...']\n"
     ]
    },
    {
     "name": "stdout",
     "output_type": "stream",
     "text": [
      "Train for 937 steps, validate for 156 steps\n",
      "Epoch 1/10\n",
      "937/937 [==============================] - 22s 23ms/step - loss: 0.3883 - accuracy: 0.8750 - val_loss: 0.0822 - val_accuracy: 0.9741\n",
      "Epoch 2/10\n",
      "937/937 [==============================] - 21s 22ms/step - loss: 0.1462 - accuracy: 0.9548 - val_loss: 0.0573 - val_accuracy: 0.9812\n",
      "Epoch 3/10\n",
      "937/937 [==============================] - 20s 21ms/step - loss: 0.1104 - accuracy: 0.9653 - val_loss: 0.0615 - val_accuracy: 0.9793\n",
      "Epoch 4/10\n",
      "937/937 [==============================] - 20s 21ms/step - loss: 0.0921 - accuracy: 0.9711 - val_loss: 0.0432 - val_accuracy: 0.9870\n",
      "Epoch 5/10\n",
      "937/937 [==============================] - 20s 21ms/step - loss: 0.0798 - accuracy: 0.9745 - val_loss: 0.0526 - val_accuracy: 0.9841\n",
      "Epoch 6/10\n",
      "937/937 [==============================] - 20s 22ms/step - loss: 0.0744 - accuracy: 0.9771 - val_loss: 0.0433 - val_accuracy: 0.9859\n",
      "Epoch 7/10\n",
      "937/937 [==============================] - 20s 21ms/step - loss: 0.0677 - accuracy: 0.9792 - val_loss: 0.0359 - val_accuracy: 0.9887\n",
      "Epoch 8/10\n",
      "937/937 [==============================] - 21s 22ms/step - loss: 0.0638 - accuracy: 0.9805 - val_loss: 0.0338 - val_accuracy: 0.9892\n",
      "Epoch 9/10\n",
      "937/937 [==============================] - 27s 29ms/step - loss: 0.0597 - accuracy: 0.9810 - val_loss: 0.0323 - val_accuracy: 0.9893\n",
      "Epoch 10/10\n",
      "937/937 [==============================] - 21s 23ms/step - loss: 0.0571 - accuracy: 0.9819 - val_loss: 0.0370 - val_accuracy: 0.9878\n"
     ]
    }
   ],
   "source": [
    "history=model.fit(train,\n",
    "                  epochs=10,\n",
    "                  \n",
    "                  steps_per_epoch=len(timage) //  64 ,\n",
    "                  validation_data=val,\n",
    "                  validation_steps=10000//64,\n",
    "                  verbose=1\n",
    "                 )"
   ]
  },
  {
   "cell_type": "code",
   "execution_count": 126,
   "metadata": {},
   "outputs": [
    {
     "data": {
      "text/plain": [
       "(937,)"
      ]
     },
     "execution_count": 126,
     "metadata": {},
     "output_type": "execute_result"
    }
   ],
   "source": [
    "len(timage) //64,"
   ]
  },
  {
   "cell_type": "code",
   "execution_count": 132,
   "metadata": {},
   "outputs": [
    {
     "data": {
      "image/png": "[encoded data removed]",
      "text/plain": [
       "<Figure size 432x288 with 1 Axes>"
      ]
     },
     "metadata": {
      "needs_background": "light"
     },
     "output_type": "display_data"
    },
    {
     "data": {
      "text/plain": [
       "<Figure size 432x288 with 0 Axes>"
      ]
     },
     "metadata": {},
     "output_type": "display_data"
    }
   ],
   "source": [
    "import matplotlib\n",
    "import matplotlib.pyplot as plt\n",
    "import matplotlib.image as mapimg\n",
    "\n",
    "\n",
    "acc = history.history['accuracy']\n",
    "val_acc = history.history['val_accuracy']\n",
    "loss = history.history['loss']\n",
    "val_loss = history.history['val_loss']\n",
    "\n",
    "epochs = range(len(acc))\n",
    "\n",
    "plt.plot(epochs, loss, 'r', label='Training loss')\n",
    "plt.plot(epochs, val_loss, 'b', label='Validation loss')\n",
    "plt.title('Training and validation accuracy')\n",
    "plt.legend(loc=0)\n",
    "plt.figure()\n",
    "\n",
    "\n",
    "plt.show()"
   ]
  },
  {
   "cell_type": "code",
   "execution_count": 128,
   "metadata": {},
   "outputs": [],
   "source": [
    "model.save(\"mnist_imdagen.model\",save_format='h5')"
   ]
  },
  {
   "cell_type": "code",
   "execution_count": 129,
   "metadata": {},
   "outputs": [],
   "source": [
    "import numpy as np \n",
    "image_ind = np.random.randint(0, vimage.shape[0])\n",
    "pred = model.predict(vimage[image_ind].reshape(1, 28, 28, 1)).tolist()[0]"
   ]
  },
  {
   "cell_type": "code",
   "execution_count": 130,
   "metadata": {},
   "outputs": [
    {
     "name": "stdout",
     "output_type": "stream",
     "text": [
      "[0. 0. 1. 0. 0. 0. 0. 0. 0. 0.]\n"
     ]
    }
   ],
   "source": [
    "print(vlabel[image_ind])"
   ]
  },
  {
   "cell_type": "code",
   "execution_count": 131,
   "metadata": {},
   "outputs": [
    {
     "name": "stdout",
     "output_type": "stream",
     "text": [
      "[5.325362373298503e-10, 3.006528137561304e-09, 0.9999967813491821, 1.3090926813674741e-06, 1.4484044389209694e-12, 1.7697692270002285e-11, 7.418809566672735e-09, 2.693462022307358e-07, 1.6714258208594401e-06, 5.955015647263195e-11]\n"
     ]
    }
   ],
   "source": [
    "print(pred)"
   ]
  }
 ],
 "metadata": {
  "kernelspec": {
   "display_name": "Python 3",
   "language": "python",
   "name": "python3"
  },
  "language_info": {
   "codemirror_mode": {
    "name": "ipython",
    "version": 3
   },
   "file_extension": ".py",
   "mimetype": "text/x-python",
   "name": "python",
   "nbconvert_exporter": "python",
   "pygments_lexer": "ipython3",
   "version": "3.7.9"
  }
 },
 "nbformat": 4,
 "nbformat_minor": 4
}
